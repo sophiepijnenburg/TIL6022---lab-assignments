{
 "cells": [
  {
   "cell_type": "markdown",
   "metadata": {},
   "source": [
    "# Project Group 35\n",
    "\n",
    "Members: Mathijs Kop, Roos Wentges, Irene Bosman, Sathvik Gadiraju, Sophie Pijnenburg\n",
    "\n",
    "Student numbers: 5095433, - , 4882237, 6084435 , 4851404"
   ]
  },
  {
   "cell_type": "markdown",
   "metadata": {},
   "source": [
    "# Research Objective\n",
    "\n",
    "*Requires data modeling and quantitative research in Transport, Infrastructure & Logistics*"
   ]
  },
  {
   "cell_type": "markdown",
   "metadata": {},
   "source": [
    "Research question: What relation can be found between rising fuel costs and mobility behaviour?\n",
    "\n",
    "We are going to look at gas fuel prices and how it influences the travel behaviour (eg. work, leisure) in the years 2018 to 2022. The fuel prices have increased so we want to see if some travel motives have a clear connection to this. For example, travelling for work might not have changed as much because people get compensation for travelling but maybe for vacations or spare time, behaviour might have changed. If we find a correlation we can look into this in more detail to see if it is a coincidence or if it is actually connected\n",
    "\n",
    "\n",
    "Subquestions:\n",
    "- How have fuel prices developed in the considered time in the Netherlands?\n",
    "- How have the mobility motives developed in the considered time in the Netherlands?\n",
    "- What is the general mobility trend?\n",
    "- What is the correlation between the fuel prices and the mobility motives?\n",
    "\n",
    " \n",
    "Geographical boundary: The Netherlands\n",
    "\n",
    "Time scale:  2018-2022"
   ]
  },
  {
   "cell_type": "markdown",
   "metadata": {},
   "source": [
    "# Contribution Statement\n",
    "\n",
    "*Be specific. Some of the tasks can be coding (expect everyone to do this), background research, conceptualisation, visualisation, data analysis, data modelling*"
   ]
  },
  {
   "cell_type": "markdown",
   "metadata": {},
   "source": [
    "**Author 1**:\n",
    "\n",
    "**Author 2**:\n",
    "\n",
    "**Author 3**:"
   ]
  },
  {
   "cell_type": "markdown",
   "metadata": {},
   "source": [
    "# Data Used"
   ]
  },
  {
   "cell_type": "markdown",
   "metadata": {},
   "source": [
    "CBS: https://opendata.cbs.nl/#/CBS/en/dataset/84710ENG/table?ts=1696337832049\n",
    "https://opendata.cbs.nl/#/CBS/en/dataset/80416ENG/table?ts=1696337975859\n",
    "https://opendata.cbs.nl/statline/#/CBS/en/dataset/84755ENG/table?ts=1696338796089"
   ]
  },
  {
   "cell_type": "markdown",
   "metadata": {},
   "source": [
    "# Data Pipeline"
   ]
  },
  {
   "cell_type": "markdown",
   "metadata": {},
   "source": [
    "From the first link we will look into distance traveled in passenger kilometres for different travel motives. \n",
    "From the second link we will look into the mean fuel prices per year, to compare with the distance traveled. The third link can be used to find the general mobility trend for the different travel motives over the years. \n"
   ]
  },
  {
   "cell_type": "markdown",
   "metadata": {},
   "source": []
  }
 ],
 "metadata": {
  "kernelspec": {
   "display_name": "Python 3",
   "language": "python",
   "name": "python3"
  },
  "language_info": {
   "name": "python",
   "version": "3.8.2"
  },
  "orig_nbformat": 4,
  "vscode": {
   "interpreter": {
    "hash": "31f2aee4e71d21fbe5cf8b01ff0e069b9275f58929596ceb00d14d90e3e16cd6"
   }
  }
 },
 "nbformat": 4,
 "nbformat_minor": 2
}
