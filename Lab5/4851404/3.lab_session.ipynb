{
 "cells": [
  {
   "cell_type": "markdown",
   "id": "ba7a5dd8",
   "metadata": {},
   "source": [
    "Import relevant packages here."
   ]
  },
  {
   "cell_type": "code",
   "execution_count": 69,
   "id": "6a8838bb",
   "metadata": {},
   "outputs": [],
   "source": [
    "import matplotlib.pyplot as plt\n",
    "import numpy as np\n",
    "import pandas as pd\n",
    "import chardet\n",
    "import math\n"
   ]
  },
  {
   "cell_type": "markdown",
   "id": "1725519c",
   "metadata": {},
   "source": [
    "Load the data and verify it is loaded correctly.\n",
    "<ul>\n",
    "    <li>Print it (head, tail, or specific rows, choose a sensible number of rows).</li>\n",
    "    <li>Compare it to the source file.</li>\n",
    "<ul>"
   ]
  },
  {
   "cell_type": "code",
   "execution_count": 44,
   "id": "aa4d5e37",
   "metadata": {},
   "outputs": [
    {
     "name": "stdout",
     "output_type": "stream",
     "text": [
      "             dv         s         a\n",
      "0     -0.743240   53.5427  1.242570\n",
      "1     -0.557230   53.6120  1.777920\n",
      "2     -0.454769   53.6541  0.544107\n",
      "3     -0.525396   53.7030 -0.294755\n",
      "4     -0.601285   53.7592 -0.290961\n",
      "...         ...       ...       ...\n",
      "73903  5.198740  116.1390 -0.795081\n",
      "73904  5.104280  115.6270 -0.314263\n",
      "73905  5.137640  115.1180  0.232283\n",
      "73906  5.153480  114.5990  0.262078\n",
      "73907  5.258680  113.1120 -0.612440\n",
      "\n",
      "[73908 rows x 3 columns]\n",
      "The first 5 rows are:\n",
      "         dv        s         a\n",
      "0 -0.743240  53.5427  1.242570\n",
      "1 -0.557230  53.6120  1.777920\n",
      "2 -0.454769  53.6541  0.544107\n",
      "3 -0.525396  53.7030 -0.294755\n",
      "4 -0.601285  53.7592 -0.290961\n",
      "The last 5 rows are:\n",
      "            dv        s         a\n",
      "73903  5.19874  116.139 -0.795081\n",
      "73904  5.10428  115.627 -0.314263\n",
      "73905  5.13764  115.118  0.232283\n",
      "73906  5.15348  114.599  0.262078\n",
      "73907  5.25868  113.112 -0.612440\n",
      "Row 400 till 421 are:\n",
      "           dv        s         a\n",
      "400  1.059600  46.1034 -3.618450\n",
      "401  0.948627  45.9997 -5.181930\n",
      "402  0.801904  45.9137 -2.782050\n",
      "403  0.596597  45.8393 -0.678278\n",
      "404  0.471528  45.7944  0.683791\n",
      "405  0.515924  45.7450  1.657710\n",
      "406  0.561714  45.6912  1.795620\n",
      "407  0.608623  45.6327  1.935790\n",
      "408  0.656320  45.5695  2.077070\n",
      "409  0.704415  45.5014  0.637663\n",
      "410  0.679514  45.4286 -3.838310\n",
      "411  0.514002  45.3655 -5.462680\n",
      "412  0.406147  45.3258 -1.323660\n",
      "413  0.422592  45.2843  1.547010\n",
      "414  0.437056  45.2413  1.695920\n",
      "415  0.449075  45.1969  1.849870\n",
      "416  0.458136  45.1514  2.008020\n",
      "417  0.463680  45.1053  2.169290\n",
      "418  0.465098  45.0587  2.332460\n",
      "419  0.461735  45.0122  1.158760\n",
      "420  0.331224  44.9664 -2.584080\n",
      "421 -0.038937  44.9460 -3.914160\n"
     ]
    }
   ],
   "source": [
    "data = pd.read_csv('cf_data.csv')\n",
    "print(pd.read_csv('cf_data.csv'))\n",
    "print(f'The first 5 rows are:\\n{data.head()}')\n",
    "print(f'The last 5 rows are:\\n{data.tail()}')\n",
    "print(f'Row 400 till 421 are:\\n{data.iloc[400:422]}' )\n"
   ]
  },
  {
   "cell_type": "markdown",
   "id": "0f6d5753",
   "metadata": {},
   "source": [
    "In the ensuing, you will use <code>numpy</code>.\n",
    "\n",
    "Let's create a grid for the values to plot. But first create <b>two arrays named <code>dv</code> and <code>s</code></b> using <code>numpy.linspace</code> that hold the grid values at the relevant indices in their respective dimension of the grid.\n",
    "\n",
    "Create a <b>grid named <code>a</code></b> with zeros using <code>numpy.zeros</code> in to which calculated acceleration values can be stored.<br>\n",
    "<br>\n",
    "Let the grid span:<br>\n",
    "<ul>\n",
    "    <li>Speed difference <code>dv</code> [m/s]\n",
    "        <ul>\n",
    "            <li>From -10 till 10</li>\n",
    "            <li>With 41 evenly spaced values</li>\n",
    "        </ul>\n",
    "    </li>\n",
    "    <li>Headway <code>s</code> [m]\n",
    "        <ul>\n",
    "            <li>From 0 till 200</li>\n",
    "            <li>With 21 evenly spaced values</li>\n",
    "        </ul>\n",
    "    </li>\n",
    "</ul>"
   ]
  },
  {
   "cell_type": "code",
   "execution_count": 175,
   "id": "2d52276f",
   "metadata": {},
   "outputs": [],
   "source": [
    "dv = np.linspace(-10, 10, 41)\n",
    "s = np.linspace(0, 200, 21)\n",
    "a = np.zeros((21, 41))\n"
   ]
  },
  {
   "cell_type": "markdown",
   "id": "fedab6cf",
   "metadata": {},
   "source": [
    "Create from the imported data 3 separate <code>numpy</code> arrays for each column <code>dv</code>, <code>s</code> and <code>a</code>. (We do this for speed reasons later.)\n",
    "<ul>\n",
    "    <li>Make sure to name them differently from the arrays that belong to the grid as above.</li>\n",
    "    <li>You can access the data of each column in a <code>DataFrame</code> using <code>data.xxx</code> where <code>xxx</code> is the column name (not as a string).</li>\n",
    "    <li>Use the method <code>to_numpy()</code> to convert a column to a <code>numpy</code> array.</li>\n",
    "</ul>"
   ]
  },
  {
   "cell_type": "code",
   "execution_count": 176,
   "id": "1058fc26",
   "metadata": {},
   "outputs": [],
   "source": [
    "DV = data['dv'].to_numpy()\n",
    "S = data['s'].to_numpy()\n",
    "A = data['a'].to_numpy()"
   ]
  },
  {
   "cell_type": "markdown",
   "id": "bbf1585a",
   "metadata": {},
   "source": [
    "Create an algorithm that calculates all the acceleration values and stores them in the grid. The algorithm is described visually in the last part of the lecture. At each grid point, it calculates a weighted mean of all measurements. The weights are given by an exponential function, based on the 'distance' between the grid point, and the measurement values of <code>dv</code> and <code>s</code>. To get you started, how many <code>for</code>-loops do you need?<br>\n",
    "<br>\n",
    "For this you will need <code>math</code>.<br>\n",
    "Use an <i>upsilon</i> of 1.5m/s and a <i>sigma</i> of 30m.<br>\n",
    "<br>\n",
    "<b>Warning:</b> This calculation may take some time. So:\n",
    "<ul>\n",
    "    <li>Print a line for each iteration of the outer-most <code>for</code>-loop that shows you the progress.</li>\n",
    "    <li>Test you code by running it only on the first 50 measurements of the data.</li>\n",
    "</ul>"
   ]
  },
  {
   "cell_type": "markdown",
   "metadata": {},
   "source": []
  },
  {
   "cell_type": "code",
   "execution_count": 183,
   "id": "676dd33f",
   "metadata": {},
   "outputs": [],
   "source": [
    "epsilon = 1.5 #m/s\n",
    "sigma = 30 #m\n",
    "\n",
    "for i in range(41):\n",
    "    for j in range(21):\n",
    "        w = np.zeros(73907)\n",
    "        for k in range(73907):\n",
    "            w[k] = np.exp(-np.abs(DV[k]-dv[i]) / epsilon - (np.abs(S[k]-s[j])/ sigma))\n",
    "            \n",
    "        weighted_sum = np.sum(w*A[:73907]) / np.sum(w)\n",
    "        \n",
    "        a[j,i] = weighted_sum"
   ]
  },
  {
   "cell_type": "markdown",
   "id": "52cbac3a",
   "metadata": {},
   "source": [
    "The following code will plot the data for you. Does it make sense when considering:\n",
    "<ul>\n",
    "    <li>Negative (slower than leader) and positive (faster than leader) speed differences?</li>\n",
    "    <li>Small and large headways?</li>\n",
    "</ul>"
   ]
  },
  {
   "cell_type": "code",
   "execution_count": 184,
   "id": "168949b8",
   "metadata": {},
   "outputs": [
    {
     "data": {
      "image/png": "[encoded data removed]",
      "text/plain": [
       "<Figure size 1000x700 with 2 Axes>"
      ]
     },
     "metadata": {},
     "output_type": "display_data"
    }
   ],
   "source": [
    "X, Y = np.meshgrid(dv, s)\n",
    "axs = plt.axes()\n",
    "p = axs.pcolor(X, Y, a, shading='nearest')\n",
    "axs.set_title('Acceleration [m/s/s]')\n",
    "axs.set_xlabel('Speed difference [m/s]')\n",
    "axs.set_ylabel('Headway [m]')\n",
    "axs.figure.colorbar(p);\n",
    "axs.figure.set_size_inches(10, 7)"
   ]
  },
  {
   "cell_type": "code",
   "execution_count": null,
   "id": "b5f9192b",
   "metadata": {},
   "outputs": [],
   "source": []
  }
 ],
 "metadata": {
  "kernelspec": {
   "display_name": "Python 3 (ipykernel)",
   "language": "python",
   "name": "python3"
  },
  "language_info": {
   "codemirror_mode": {
    "name": "ipython",
    "version": 3
   },
   "file_extension": ".py",
   "mimetype": "text/x-python",
   "name": "python",
   "nbconvert_exporter": "python",
   "pygments_lexer": "ipython3",
   "version": "3.11.5"
  }
 },
 "nbformat": 4,
 "nbformat_minor": 5
}
